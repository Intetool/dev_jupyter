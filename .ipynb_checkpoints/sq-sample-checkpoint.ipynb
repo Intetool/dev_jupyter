{
 "cells": [
  {
   "cell_type": "code",
   "execution_count": 1,
   "metadata": {},
   "outputs": [
    {
     "name": "stdout",
     "output_type": "stream",
     "text": [
      "Collecting selenium\n",
      "  Downloading selenium-3.141.0-py2.py3-none-any.whl (904 kB)\n",
      "\u001b[K     |████████████████████████████████| 904 kB 165 kB/s eta 0:00:01\n",
      "\u001b[?25hRequirement already satisfied: urllib3 in /opt/conda/lib/python3.8/site-packages (from selenium) (1.25.11)\n",
      "Installing collected packages: selenium\n",
      "Successfully installed selenium-3.141.0\n",
      "Collecting bs4\n",
      "  Downloading bs4-0.0.1.tar.gz (1.1 kB)\n",
      "Requirement already satisfied: beautifulsoup4 in /opt/conda/lib/python3.8/site-packages (from bs4) (4.9.3)\n",
      "Requirement already satisfied: soupsieve>1.2; python_version >= \"3.0\" in /opt/conda/lib/python3.8/site-packages (from beautifulsoup4->bs4) (2.0.1)\n",
      "Building wheels for collected packages: bs4\n",
      "  Building wheel for bs4 (setup.py) ... \u001b[?25ldone\n",
      "\u001b[?25h  Created wheel for bs4: filename=bs4-0.0.1-py3-none-any.whl size=1273 sha256=b34a36c890f7f2f14c7e261d277ceca9997b06b3b06dc9dbbbe31162e1fd3865\n",
      "  Stored in directory: /root/.cache/pip/wheels/75/78/21/68b124549c9bdc94f822c02fb9aa3578a669843f9767776bca\n",
      "Successfully built bs4\n",
      "Installing collected packages: bs4\n",
      "Successfully installed bs4-0.0.1\n",
      "Requirement already satisfied: certifi in /opt/conda/lib/python3.8/site-packages (2020.6.20)\n"
     ]
    }
   ],
   "source": [
    "!pip install selenium\n",
    "!pip install bs4\n",
    "!pip install certifi"
   ]
  },
  {
   "cell_type": "code",
   "execution_count": 2,
   "metadata": {},
   "outputs": [],
   "source": [
    "from bs4 import BeautifulSoup\n",
    "from selenium import webdriver\n",
    "from selenium.webdriver.chrome.options import Options\n",
    "from selenium.webdriver.common.keys import Keys"
   ]
  },
  {
   "cell_type": "code",
   "execution_count": 3,
   "metadata": {},
   "outputs": [],
   "source": [
    "CHROME_BIN = '/opt/google/chrome/chrome'\n",
    "CHROME_DRIVER = '/opt/chrome/chromedriver'\n",
    "options = Options()\n",
    "options.binary_location = CHROME_BIN\n",
    "options.add_argument(\"--disable-dev-shm-usage\")\n",
    "options.add_argument(\"start-maximized\")\n",
    "options.add_argument(\"disable-infobars\")\n",
    "options.add_argument(\"--disable-extensions\")\n",
    "options.add_argument(\"--disable-gpu\")\n",
    "options.add_argument(\"--no-sandbox\")\n",
    "options.add_argument('--lang=ja-JP')\n",
    "options.add_argument('--headless')\n",
    "driver = webdriver.Chrome(options=options,executable_path = CHROME_DRIVER)\n",
    "driver.implicitly_wait(3)"
   ]
  },
  {
   "cell_type": "code",
   "execution_count": 6,
   "metadata": {},
   "outputs": [],
   "source": [
    "driver.get(\"https://google.com\")"
   ]
  },
  {
   "cell_type": "code",
   "execution_count": 7,
   "metadata": {},
   "outputs": [
    {
     "name": "stdout",
     "output_type": "stream",
     "text": [
      "True\n"
     ]
    }
   ],
   "source": [
    "assert 'Google' in driver.title\n",
    "print('True')"
   ]
  },
  {
   "cell_type": "code",
   "execution_count": 9,
   "metadata": {},
   "outputs": [],
   "source": [
    "def screenshot(driver):\n",
    "    page_width = driver.execute_script('return document.body.scrollWidth')\n",
    "    page_height = driver.execute_script('return document.body.scrollHeight')\n",
    "    print('page_width', page_width, sep=':')\n",
    "    print('page_height', page_height, sep=':')\n",
    "    driver.set_window_size(page_width, page_height)\n",
    "    driver.save_screenshot('search_results.png')"
   ]
  },
  {
   "cell_type": "code",
   "execution_count": 51,
   "metadata": {},
   "outputs": [
    {
     "name": "stdout",
     "output_type": "stream",
     "text": [
      "<_io.TextIOWrapper name='利用可能なトイレ一覧表.csv' mode='r' encoding='UTF-8'>\n"
     ]
    }
   ],
   "source": [
    "with open('利用可能なトイレ一覧表.csv',\"r\") as f:\n",
    "    print(f)"
   ]
  },
  {
   "cell_type": "code",
   "execution_count": 52,
   "metadata": {},
   "outputs": [],
   "source": [
    "df = pd.read_csv('利用可能なトイレ一覧表.csv', encoding='utf-8')"
   ]
  },
  {
   "cell_type": "code",
   "execution_count": 59,
   "metadata": {},
   "outputs": [
    {
     "data": {
      "text/html": [
       "<div>\n",
       "<style scoped>\n",
       "    .dataframe tbody tr th:only-of-type {\n",
       "        vertical-align: middle;\n",
       "    }\n",
       "\n",
       "    .dataframe tbody tr th {\n",
       "        vertical-align: top;\n",
       "    }\n",
       "\n",
       "    .dataframe thead th {\n",
       "        text-align: right;\n",
       "    }\n",
       "</style>\n",
       "<table border=\"1\" class=\"dataframe\">\n",
       "  <thead>\n",
       "    <tr style=\"text-align: right;\">\n",
       "      <th></th>\n",
       "      <th>名称</th>\n",
       "      <th>名称_カナ</th>\n",
       "      <th>住所</th>\n",
       "      <th>男性トイレの有無</th>\n",
       "      <th>女性トイレの有無</th>\n",
       "      <th>車椅子使用者用トイレ有無</th>\n",
       "      <th>乳幼児用設備設置トイレ有無</th>\n",
       "      <th>オストメイト設置トイレ有無</th>\n",
       "      <th>利用可能な曜日</th>\n",
       "      <th>利用開始時間</th>\n",
       "      <th>利用終了時間</th>\n",
       "      <th>利用可能時間特記事項</th>\n",
       "    </tr>\n",
       "  </thead>\n",
       "  <tbody>\n",
       "    <tr>\n",
       "      <th>0</th>\n",
       "      <td>徳島県立防災センター</td>\n",
       "      <td>トクシマケンリツボウサイセンター</td>\n",
       "      <td>北島町鯛浜字大西165</td>\n",
       "      <td>有</td>\n",
       "      <td>有</td>\n",
       "      <td>有</td>\n",
       "      <td>有</td>\n",
       "      <td>有</td>\n",
       "      <td>火水木金土日</td>\n",
       "      <td>08:30</td>\n",
       "      <td>17:00</td>\n",
       "      <td>第一火曜日，12/28～1/4は利用不可。</td>\n",
       "    </tr>\n",
       "    <tr>\n",
       "      <th>1</th>\n",
       "      <td>消防学校</td>\n",
       "      <td>ショウボウガッコウ</td>\n",
       "      <td>北島町鯛浜字大西159外</td>\n",
       "      <td>有</td>\n",
       "      <td>有</td>\n",
       "      <td>無</td>\n",
       "      <td>無</td>\n",
       "      <td>無</td>\n",
       "      <td>月火水木金土日</td>\n",
       "      <td>08:30</td>\n",
       "      <td>17:00</td>\n",
       "      <td>12/29～1/3は利用不可。</td>\n",
       "    </tr>\n",
       "    <tr>\n",
       "      <th>2</th>\n",
       "      <td>徳島県立南部防災館</td>\n",
       "      <td>トクシマケンリツナンブボウサイカン</td>\n",
       "      <td>海陽町浅川字西福良43</td>\n",
       "      <td>有</td>\n",
       "      <td>有</td>\n",
       "      <td>有</td>\n",
       "      <td>有</td>\n",
       "      <td>有</td>\n",
       "      <td>火水木金土日</td>\n",
       "      <td>09:00</td>\n",
       "      <td>17:00</td>\n",
       "      <td>月、第１火、年末年始は利用不可</td>\n",
       "    </tr>\n",
       "    <tr>\n",
       "      <th>3</th>\n",
       "      <td>徳島県立西部防災館（本館）</td>\n",
       "      <td>トクシマケンリツセイブボウサイカン（ホンカン）</td>\n",
       "      <td>美馬市美馬町中鳥</td>\n",
       "      <td>有</td>\n",
       "      <td>有</td>\n",
       "      <td>有</td>\n",
       "      <td>有</td>\n",
       "      <td>有</td>\n",
       "      <td>月水木金土日</td>\n",
       "      <td>09:00</td>\n",
       "      <td>17:00</td>\n",
       "      <td>休館日(年末年始を含む)は利用不可。</td>\n",
       "    </tr>\n",
       "    <tr>\n",
       "      <th>4</th>\n",
       "      <td>徳島県立西部防災館（別館）</td>\n",
       "      <td>トクシマケンリツセイブボウサイカン（ベッカン）</td>\n",
       "      <td>美馬市美馬町中鳥</td>\n",
       "      <td>有</td>\n",
       "      <td>有</td>\n",
       "      <td>有</td>\n",
       "      <td>有</td>\n",
       "      <td>有</td>\n",
       "      <td>月水木金土日</td>\n",
       "      <td>09:00</td>\n",
       "      <td>17:00</td>\n",
       "      <td>休館日(年末年始を含む)は利用不可。\\n男性，女性トイレは制限なく終日利用可。</td>\n",
       "    </tr>\n",
       "    <tr>\n",
       "      <th>...</th>\n",
       "      <td>...</td>\n",
       "      <td>...</td>\n",
       "      <td>...</td>\n",
       "      <td>...</td>\n",
       "      <td>...</td>\n",
       "      <td>...</td>\n",
       "      <td>...</td>\n",
       "      <td>...</td>\n",
       "      <td>...</td>\n",
       "      <td>...</td>\n",
       "      <td>...</td>\n",
       "      <td>...</td>\n",
       "    </tr>\n",
       "    <tr>\n",
       "      <th>77</th>\n",
       "      <td>川口ダム自然エネルギーミュージアム</td>\n",
       "      <td>カワグチエネミュー</td>\n",
       "      <td>那賀郡那賀町吉野字イヤ谷72-1</td>\n",
       "      <td>有</td>\n",
       "      <td>有</td>\n",
       "      <td>有</td>\n",
       "      <td>有</td>\n",
       "      <td>無</td>\n",
       "      <td>火水木金土日</td>\n",
       "      <td>09:30</td>\n",
       "      <td>16:30</td>\n",
       "      <td>年末年始は利用不可（12／29から1／1）</td>\n",
       "    </tr>\n",
       "    <tr>\n",
       "      <th>78</th>\n",
       "      <td>川口ダム自然エネルギーミュージアム第2駐車場</td>\n",
       "      <td>カワグチエネミューダイニチュウシャジョウ</td>\n",
       "      <td>那賀郡那賀町鉢字川原畑57</td>\n",
       "      <td>有</td>\n",
       "      <td>有</td>\n",
       "      <td>無</td>\n",
       "      <td>無</td>\n",
       "      <td>無</td>\n",
       "      <td>火水木金土日</td>\n",
       "      <td>09:30</td>\n",
       "      <td>16:30</td>\n",
       "      <td>年末年始は利用不可（12／29から1／1）</td>\n",
       "    </tr>\n",
       "    <tr>\n",
       "      <th>79</th>\n",
       "      <td>長安口ダム資料館</td>\n",
       "      <td>ナガヤスグチダムシリョウカン</td>\n",
       "      <td>那賀郡那賀町長安向イ20-14</td>\n",
       "      <td>有</td>\n",
       "      <td>有</td>\n",
       "      <td>有</td>\n",
       "      <td>無</td>\n",
       "      <td>無</td>\n",
       "      <td>月火水木金土日</td>\n",
       "      <td>00:00</td>\n",
       "      <td>23:59</td>\n",
       "      <td>NaN</td>\n",
       "    </tr>\n",
       "    <tr>\n",
       "      <th>80</th>\n",
       "      <td>総合教育センター</td>\n",
       "      <td>ソウゴウキョウイクセンター</td>\n",
       "      <td>板野町犬伏字東谷1-7</td>\n",
       "      <td>有</td>\n",
       "      <td>有</td>\n",
       "      <td>有</td>\n",
       "      <td>有</td>\n",
       "      <td>有</td>\n",
       "      <td>月火水木金土日</td>\n",
       "      <td>08:30</td>\n",
       "      <td>17:00</td>\n",
       "      <td>年末及び年始は利用不可</td>\n",
       "    </tr>\n",
       "    <tr>\n",
       "      <th>81</th>\n",
       "      <td>牟岐少年自然の家</td>\n",
       "      <td>ムギショウネンシゼンノイエ</td>\n",
       "      <td>牟岐町大字灘字東谷116-35</td>\n",
       "      <td>有</td>\n",
       "      <td>有</td>\n",
       "      <td>有</td>\n",
       "      <td>無</td>\n",
       "      <td>無</td>\n",
       "      <td>月火水木金土日</td>\n",
       "      <td>08:30</td>\n",
       "      <td>17:00</td>\n",
       "      <td>年末年始，お盆期間は利用不可。\\n利用開始時間・終了時間は変更の場合あり。</td>\n",
       "    </tr>\n",
       "  </tbody>\n",
       "</table>\n",
       "<p>82 rows × 12 columns</p>\n",
       "</div>"
      ],
      "text/plain": [
       "                        名称                    名称_カナ                住所  \\\n",
       "0               徳島県立防災センター         トクシマケンリツボウサイセンター       北島町鯛浜字大西165   \n",
       "1                     消防学校                ショウボウガッコウ      北島町鯛浜字大西159外   \n",
       "2                徳島県立南部防災館        トクシマケンリツナンブボウサイカン       海陽町浅川字西福良43   \n",
       "3            徳島県立西部防災館（本館）  トクシマケンリツセイブボウサイカン（ホンカン）          美馬市美馬町中鳥   \n",
       "4            徳島県立西部防災館（別館）  トクシマケンリツセイブボウサイカン（ベッカン）          美馬市美馬町中鳥   \n",
       "..                     ...                      ...               ...   \n",
       "77       川口ダム自然エネルギーミュージアム                カワグチエネミュー  那賀郡那賀町吉野字イヤ谷72-1   \n",
       "78  川口ダム自然エネルギーミュージアム第2駐車場     カワグチエネミューダイニチュウシャジョウ     那賀郡那賀町鉢字川原畑57   \n",
       "79                長安口ダム資料館           ナガヤスグチダムシリョウカン   那賀郡那賀町長安向イ20-14   \n",
       "80                総合教育センター            ソウゴウキョウイクセンター       板野町犬伏字東谷1-7   \n",
       "81                牟岐少年自然の家            ムギショウネンシゼンノイエ   牟岐町大字灘字東谷116-35   \n",
       "\n",
       "   男性トイレの有無 女性トイレの有無 車椅子使用者用トイレ有無 乳幼児用設備設置トイレ有無 オストメイト設置トイレ有無  利用可能な曜日 利用開始時間  \\\n",
       "0         有        有            有             有             有   火水木金土日  08:30   \n",
       "1         有        有            無             無             無  月火水木金土日  08:30   \n",
       "2         有        有            有             有             有   火水木金土日  09:00   \n",
       "3         有        有            有             有             有   月水木金土日  09:00   \n",
       "4         有        有            有             有             有   月水木金土日  09:00   \n",
       "..      ...      ...          ...           ...           ...      ...    ...   \n",
       "77        有        有            有             有             無   火水木金土日  09:30   \n",
       "78        有        有            無             無             無   火水木金土日  09:30   \n",
       "79        有        有            有             無             無  月火水木金土日  00:00   \n",
       "80        有        有            有             有             有  月火水木金土日  08:30   \n",
       "81        有        有            有             無             無  月火水木金土日  08:30   \n",
       "\n",
       "   利用終了時間                               利用可能時間特記事項  \n",
       "0   17:00                    第一火曜日，12/28～1/4は利用不可。  \n",
       "1   17:00                          12/29～1/3は利用不可。  \n",
       "2   17:00                          月、第１火、年末年始は利用不可  \n",
       "3   17:00                       休館日(年末年始を含む)は利用不可。  \n",
       "4   17:00  休館日(年末年始を含む)は利用不可。\\n男性，女性トイレは制限なく終日利用可。  \n",
       "..    ...                                      ...  \n",
       "77  16:30                    年末年始は利用不可（12／29から1／1）  \n",
       "78  16:30                    年末年始は利用不可（12／29から1／1）  \n",
       "79  23:59                                      NaN  \n",
       "80  17:00                              年末及び年始は利用不可  \n",
       "81  17:00    年末年始，お盆期間は利用不可。\\n利用開始時間・終了時間は変更の場合あり。  \n",
       "\n",
       "[82 rows x 12 columns]"
      ]
     },
     "execution_count": 59,
     "metadata": {},
     "output_type": "execute_result"
    }
   ],
   "source": [
    "df"
   ]
  },
  {
   "cell_type": "code",
   "execution_count": 71,
   "metadata": {},
   "outputs": [],
   "source": [
    "df_1 = df[['名称','利用可能な曜日']]"
   ]
  },
  {
   "cell_type": "code",
   "execution_count": 73,
   "metadata": {},
   "outputs": [
    {
     "data": {
      "text/html": [
       "<div>\n",
       "<style scoped>\n",
       "    .dataframe tbody tr th:only-of-type {\n",
       "        vertical-align: middle;\n",
       "    }\n",
       "\n",
       "    .dataframe tbody tr th {\n",
       "        vertical-align: top;\n",
       "    }\n",
       "\n",
       "    .dataframe thead th {\n",
       "        text-align: right;\n",
       "    }\n",
       "</style>\n",
       "<table border=\"1\" class=\"dataframe\">\n",
       "  <thead>\n",
       "    <tr style=\"text-align: right;\">\n",
       "      <th></th>\n",
       "      <th>名称</th>\n",
       "      <th>利用可能な曜日</th>\n",
       "    </tr>\n",
       "  </thead>\n",
       "  <tbody>\n",
       "    <tr>\n",
       "      <th>0</th>\n",
       "      <td>徳島県立防災センター</td>\n",
       "      <td>火水木金土日</td>\n",
       "    </tr>\n",
       "    <tr>\n",
       "      <th>1</th>\n",
       "      <td>消防学校</td>\n",
       "      <td>月火水木金土日</td>\n",
       "    </tr>\n",
       "    <tr>\n",
       "      <th>2</th>\n",
       "      <td>徳島県立南部防災館</td>\n",
       "      <td>火水木金土日</td>\n",
       "    </tr>\n",
       "    <tr>\n",
       "      <th>3</th>\n",
       "      <td>徳島県立西部防災館（本館）</td>\n",
       "      <td>月水木金土日</td>\n",
       "    </tr>\n",
       "    <tr>\n",
       "      <th>4</th>\n",
       "      <td>徳島県立西部防災館（別館）</td>\n",
       "      <td>月水木金土日</td>\n",
       "    </tr>\n",
       "    <tr>\n",
       "      <th>...</th>\n",
       "      <td>...</td>\n",
       "      <td>...</td>\n",
       "    </tr>\n",
       "    <tr>\n",
       "      <th>77</th>\n",
       "      <td>川口ダム自然エネルギーミュージアム</td>\n",
       "      <td>火水木金土日</td>\n",
       "    </tr>\n",
       "    <tr>\n",
       "      <th>78</th>\n",
       "      <td>川口ダム自然エネルギーミュージアム第2駐車場</td>\n",
       "      <td>火水木金土日</td>\n",
       "    </tr>\n",
       "    <tr>\n",
       "      <th>79</th>\n",
       "      <td>長安口ダム資料館</td>\n",
       "      <td>月火水木金土日</td>\n",
       "    </tr>\n",
       "    <tr>\n",
       "      <th>80</th>\n",
       "      <td>総合教育センター</td>\n",
       "      <td>月火水木金土日</td>\n",
       "    </tr>\n",
       "    <tr>\n",
       "      <th>81</th>\n",
       "      <td>牟岐少年自然の家</td>\n",
       "      <td>月火水木金土日</td>\n",
       "    </tr>\n",
       "  </tbody>\n",
       "</table>\n",
       "<p>82 rows × 2 columns</p>\n",
       "</div>"
      ],
      "text/plain": [
       "                        名称  利用可能な曜日\n",
       "0               徳島県立防災センター   火水木金土日\n",
       "1                     消防学校  月火水木金土日\n",
       "2                徳島県立南部防災館   火水木金土日\n",
       "3            徳島県立西部防災館（本館）   月水木金土日\n",
       "4            徳島県立西部防災館（別館）   月水木金土日\n",
       "..                     ...      ...\n",
       "77       川口ダム自然エネルギーミュージアム   火水木金土日\n",
       "78  川口ダム自然エネルギーミュージアム第2駐車場   火水木金土日\n",
       "79                長安口ダム資料館  月火水木金土日\n",
       "80                総合教育センター  月火水木金土日\n",
       "81                牟岐少年自然の家  月火水木金土日\n",
       "\n",
       "[82 rows x 2 columns]"
      ]
     },
     "execution_count": 73,
     "metadata": {},
     "output_type": "execute_result"
    }
   ],
   "source": [
    "df_1"
   ]
  },
  {
   "cell_type": "code",
   "execution_count": 89,
   "metadata": {},
   "outputs": [],
   "source": [
    "getu_result =[]\n",
    "for i in range(df_1.shape[0]):\n",
    "    if not '月' in df_1['利用可能な曜日'][i]:\n",
    "        getu_result.append(df_1.iloc[i,0])\n",
    "df_2 = pd.Series(getu_result)"
   ]
  },
  {
   "cell_type": "code",
   "execution_count": 90,
   "metadata": {},
   "outputs": [
    {
     "data": {
      "text/plain": [
       "0                徳島県立防災センター\n",
       "1                 徳島県立南部防災館\n",
       "2                     文学書道館\n",
       "3               埋蔵文化財総合センター\n",
       "4              文化の森総合公園文化施設\n",
       "5            佐那河内いきものふれあいの里\n",
       "6         川口ダム自然エネルギーミュージアム\n",
       "7    川口ダム自然エネルギーミュージアム第2駐車場\n",
       "dtype: object"
      ]
     },
     "execution_count": 90,
     "metadata": {},
     "output_type": "execute_result"
    }
   ],
   "source": [
    "df_2"
   ]
  },
  {
   "cell_type": "code",
   "execution_count": 79,
   "metadata": {},
   "outputs": [
    {
     "data": {
      "text/plain": [
       "'消防学校'"
      ]
     },
     "execution_count": 79,
     "metadata": {},
     "output_type": "execute_result"
    }
   ],
   "source": [
    "df_1.iloc[1,0]"
   ]
  },
  {
   "cell_type": "code",
   "execution_count": 85,
   "metadata": {},
   "outputs": [
    {
     "data": {
      "text/plain": [
       "82"
      ]
     },
     "execution_count": 85,
     "metadata": {},
     "output_type": "execute_result"
    }
   ],
   "source": [
    "df_1.shape[0]"
   ]
  },
  {
   "cell_type": "code",
   "execution_count": 86,
   "metadata": {},
   "outputs": [
    {
     "data": {
      "text/plain": [
       "'月火水木金土日'"
      ]
     },
     "execution_count": 86,
     "metadata": {},
     "output_type": "execute_result"
    }
   ],
   "source": [
    "df_1['利用可能な曜日'][1]"
   ]
  },
  {
   "cell_type": "code",
   "execution_count": 101,
   "metadata": {},
   "outputs": [
    {
     "data": {
      "text/plain": [
       "'08:30'"
      ]
     },
     "execution_count": 101,
     "metadata": {},
     "output_type": "execute_result"
    }
   ],
   "source": [
    "df['利用開始時間'][0]"
   ]
  },
  {
   "cell_type": "code",
   "execution_count": null,
   "metadata": {},
   "outputs": [],
   "source": []
  },
  {
   "cell_type": "code",
   "execution_count": null,
   "metadata": {},
   "outputs": [],
   "source": []
  },
  {
   "cell_type": "code",
   "execution_count": null,
   "metadata": {},
   "outputs": [],
   "source": []
  },
  {
   "cell_type": "code",
   "execution_count": null,
   "metadata": {},
   "outputs": [],
   "source": []
  },
  {
   "cell_type": "code",
   "execution_count": null,
   "metadata": {},
   "outputs": [],
   "source": []
  },
  {
   "cell_type": "code",
   "execution_count": null,
   "metadata": {},
   "outputs": [],
   "source": []
  },
  {
   "cell_type": "code",
   "execution_count": null,
   "metadata": {},
   "outputs": [],
   "source": []
  },
  {
   "cell_type": "code",
   "execution_count": null,
   "metadata": {},
   "outputs": [],
   "source": []
  },
  {
   "cell_type": "code",
   "execution_count": null,
   "metadata": {},
   "outputs": [],
   "source": []
  },
  {
   "cell_type": "code",
   "execution_count": null,
   "metadata": {},
   "outputs": [],
   "source": []
  },
  {
   "cell_type": "code",
   "execution_count": null,
   "metadata": {},
   "outputs": [],
   "source": []
  },
  {
   "cell_type": "code",
   "execution_count": null,
   "metadata": {},
   "outputs": [],
   "source": []
  },
  {
   "cell_type": "code",
   "execution_count": null,
   "metadata": {},
   "outputs": [],
   "source": []
  },
  {
   "cell_type": "code",
   "execution_count": null,
   "metadata": {},
   "outputs": [],
   "source": []
  },
  {
   "cell_type": "code",
   "execution_count": null,
   "metadata": {},
   "outputs": [],
   "source": []
  },
  {
   "cell_type": "code",
   "execution_count": null,
   "metadata": {},
   "outputs": [],
   "source": []
  },
  {
   "cell_type": "code",
   "execution_count": null,
   "metadata": {},
   "outputs": [],
   "source": []
  },
  {
   "cell_type": "code",
   "execution_count": null,
   "metadata": {},
   "outputs": [],
   "source": []
  },
  {
   "cell_type": "code",
   "execution_count": null,
   "metadata": {},
   "outputs": [],
   "source": []
  },
  {
   "cell_type": "code",
   "execution_count": null,
   "metadata": {},
   "outputs": [],
   "source": []
  },
  {
   "cell_type": "code",
   "execution_count": null,
   "metadata": {},
   "outputs": [],
   "source": []
  }
 ],
 "metadata": {
  "kernelspec": {
   "display_name": "Python 3",
   "language": "python",
   "name": "python3"
  },
  "language_info": {
   "codemirror_mode": {
    "name": "ipython",
    "version": 3
   },
   "file_extension": ".py",
   "mimetype": "text/x-python",
   "name": "python",
   "nbconvert_exporter": "python",
   "pygments_lexer": "ipython3",
   "version": "3.8.5"
  }
 },
 "nbformat": 4,
 "nbformat_minor": 4
}
