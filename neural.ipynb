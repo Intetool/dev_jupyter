{
 "cells": [
  {
   "cell_type": "code",
   "execution_count": 37,
   "metadata": {
    "collapsed": true,
    "jupyter": {
     "outputs_hidden": true
    }
   },
   "outputs": [],
   "source": [
    "import pandas as plt\n",
    "import numpy as np\n",
    "import math\n",
    "from keras.models import Sequential\n",
    "from keras.layers import Dense, Activation"
   ]
  },
  {
   "cell_type": "code",
   "execution_count": 29,
   "metadata": {
    "collapsed": true,
    "jupyter": {
     "outputs_hidden": true
    }
   },
   "outputs": [
    {
     "data": {
      "text/html": [
       "<div>\n",
       "<style scoped>\n",
       "    .dataframe tbody tr th:only-of-type {\n",
       "        vertical-align: middle;\n",
       "    }\n",
       "\n",
       "    .dataframe tbody tr th {\n",
       "        vertical-align: top;\n",
       "    }\n",
       "\n",
       "    .dataframe thead th {\n",
       "        text-align: right;\n",
       "    }\n",
       "</style>\n",
       "<table border=\"1\" class=\"dataframe\">\n",
       "  <thead>\n",
       "    <tr style=\"text-align: right;\">\n",
       "      <th></th>\n",
       "      <th>x</th>\n",
       "      <th>sin_2px</th>\n",
       "      <th>noise</th>\n",
       "      <th>total</th>\n",
       "    </tr>\n",
       "  </thead>\n",
       "  <tbody>\n",
       "    <tr>\n",
       "      <th>0</th>\n",
       "      <td>0.0</td>\n",
       "      <td>0.000000e+00</td>\n",
       "      <td>0.140055</td>\n",
       "      <td>0.140055</td>\n",
       "    </tr>\n",
       "    <tr>\n",
       "      <th>1</th>\n",
       "      <td>0.1</td>\n",
       "      <td>5.877853e-01</td>\n",
       "      <td>-0.038391</td>\n",
       "      <td>0.549394</td>\n",
       "    </tr>\n",
       "    <tr>\n",
       "      <th>2</th>\n",
       "      <td>0.2</td>\n",
       "      <td>9.510565e-01</td>\n",
       "      <td>0.325954</td>\n",
       "      <td>1.277010</td>\n",
       "    </tr>\n",
       "    <tr>\n",
       "      <th>3</th>\n",
       "      <td>0.3</td>\n",
       "      <td>9.510565e-01</td>\n",
       "      <td>-0.416951</td>\n",
       "      <td>0.534105</td>\n",
       "    </tr>\n",
       "    <tr>\n",
       "      <th>4</th>\n",
       "      <td>0.4</td>\n",
       "      <td>5.877853e-01</td>\n",
       "      <td>0.493248</td>\n",
       "      <td>1.081034</td>\n",
       "    </tr>\n",
       "    <tr>\n",
       "      <th>5</th>\n",
       "      <td>0.5</td>\n",
       "      <td>1.220000e-16</td>\n",
       "      <td>0.016663</td>\n",
       "      <td>0.016663</td>\n",
       "    </tr>\n",
       "    <tr>\n",
       "      <th>6</th>\n",
       "      <td>0.6</td>\n",
       "      <td>-5.877853e-01</td>\n",
       "      <td>0.169217</td>\n",
       "      <td>-0.418568</td>\n",
       "    </tr>\n",
       "    <tr>\n",
       "      <th>7</th>\n",
       "      <td>0.7</td>\n",
       "      <td>-9.510565e-01</td>\n",
       "      <td>-0.264945</td>\n",
       "      <td>-1.216001</td>\n",
       "    </tr>\n",
       "    <tr>\n",
       "      <th>8</th>\n",
       "      <td>0.8</td>\n",
       "      <td>-9.510565e-01</td>\n",
       "      <td>-0.132439</td>\n",
       "      <td>-1.083495</td>\n",
       "    </tr>\n",
       "    <tr>\n",
       "      <th>9</th>\n",
       "      <td>0.9</td>\n",
       "      <td>-5.877853e-01</td>\n",
       "      <td>-0.308865</td>\n",
       "      <td>-0.896650</td>\n",
       "    </tr>\n",
       "    <tr>\n",
       "      <th>10</th>\n",
       "      <td>1.0</td>\n",
       "      <td>-2.450000e-16</td>\n",
       "      <td>-0.105002</td>\n",
       "      <td>-0.105002</td>\n",
       "    </tr>\n",
       "  </tbody>\n",
       "</table>\n",
       "</div>"
      ],
      "text/plain": [
       "      x       sin_2px     noise     total\n",
       "0   0.0  0.000000e+00  0.140055  0.140055\n",
       "1   0.1  5.877853e-01 -0.038391  0.549394\n",
       "2   0.2  9.510565e-01  0.325954  1.277010\n",
       "3   0.3  9.510565e-01 -0.416951  0.534105\n",
       "4   0.4  5.877853e-01  0.493248  1.081034\n",
       "5   0.5  1.220000e-16  0.016663  0.016663\n",
       "6   0.6 -5.877853e-01  0.169217 -0.418568\n",
       "7   0.7 -9.510565e-01 -0.264945 -1.216001\n",
       "8   0.8 -9.510565e-01 -0.132439 -1.083495\n",
       "9   0.9 -5.877853e-01 -0.308865 -0.896650\n",
       "10  1.0 -2.450000e-16 -0.105002 -0.105002"
      ]
     },
     "execution_count": 29,
     "metadata": {},
     "output_type": "execute_result"
    }
   ],
   "source": [
    "df = pd.read_csv(\"sin.csv\", encoding=\"SHIFT-JIS\")\n",
    "df"
   ]
  },
  {
   "cell_type": "code",
   "execution_count": 30,
   "metadata": {
    "collapsed": true,
    "jupyter": {
     "outputs_hidden": true
    }
   },
   "outputs": [
    {
     "data": {
      "text/plain": [
       "(array([[0. ],\n",
       "        [0.1],\n",
       "        [0.2],\n",
       "        [0.3],\n",
       "        [0.4],\n",
       "        [0.5],\n",
       "        [0.6],\n",
       "        [0.7],\n",
       "        [0.8],\n",
       "        [0.9],\n",
       "        [1. ]]),\n",
       " array([[ 0.14005471],\n",
       "        [ 0.54939377],\n",
       "        [ 1.27701022],\n",
       "        [ 0.53410526],\n",
       "        [ 1.08103366],\n",
       "        [ 0.01666284],\n",
       "        [-0.41856848],\n",
       "        [-1.21600122],\n",
       "        [-1.08349524],\n",
       "        [-0.89665041],\n",
       "        [-0.10500246]]))"
      ]
     },
     "execution_count": 30,
     "metadata": {},
     "output_type": "execute_result"
    }
   ],
   "source": [
    "x_train = np.array(df.loc[:,[\"x\"]])\n",
    "y_train = np.array(df.loc[:,[\"total\"]])\n",
    "x_train,y_train"
   ]
  },
  {
   "cell_type": "code",
   "execution_count": 18,
   "metadata": {
    "collapsed": true,
    "jupyter": {
     "outputs_hidden": true
    }
   },
   "outputs": [
    {
     "data": {
      "text/html": [
       "<div>\n",
       "<style scoped>\n",
       "    .dataframe tbody tr th:only-of-type {\n",
       "        vertical-align: middle;\n",
       "    }\n",
       "\n",
       "    .dataframe tbody tr th {\n",
       "        vertical-align: top;\n",
       "    }\n",
       "\n",
       "    .dataframe thead th {\n",
       "        text-align: right;\n",
       "    }\n",
       "</style>\n",
       "<table border=\"1\" class=\"dataframe\">\n",
       "  <thead>\n",
       "    <tr style=\"text-align: right;\">\n",
       "      <th></th>\n",
       "      <th>x2</th>\n",
       "    </tr>\n",
       "  </thead>\n",
       "  <tbody>\n",
       "    <tr>\n",
       "      <th>0</th>\n",
       "      <td>0.00</td>\n",
       "    </tr>\n",
       "    <tr>\n",
       "      <th>1</th>\n",
       "      <td>0.01</td>\n",
       "    </tr>\n",
       "    <tr>\n",
       "      <th>2</th>\n",
       "      <td>0.02</td>\n",
       "    </tr>\n",
       "    <tr>\n",
       "      <th>3</th>\n",
       "      <td>0.03</td>\n",
       "    </tr>\n",
       "    <tr>\n",
       "      <th>4</th>\n",
       "      <td>0.04</td>\n",
       "    </tr>\n",
       "    <tr>\n",
       "      <th>...</th>\n",
       "      <td>...</td>\n",
       "    </tr>\n",
       "    <tr>\n",
       "      <th>96</th>\n",
       "      <td>0.96</td>\n",
       "    </tr>\n",
       "    <tr>\n",
       "      <th>97</th>\n",
       "      <td>0.97</td>\n",
       "    </tr>\n",
       "    <tr>\n",
       "      <th>98</th>\n",
       "      <td>0.98</td>\n",
       "    </tr>\n",
       "    <tr>\n",
       "      <th>99</th>\n",
       "      <td>0.99</td>\n",
       "    </tr>\n",
       "    <tr>\n",
       "      <th>100</th>\n",
       "      <td>1.00</td>\n",
       "    </tr>\n",
       "  </tbody>\n",
       "</table>\n",
       "<p>101 rows × 1 columns</p>\n",
       "</div>"
      ],
      "text/plain": [
       "       x2\n",
       "0    0.00\n",
       "1    0.01\n",
       "2    0.02\n",
       "3    0.03\n",
       "4    0.04\n",
       "..    ...\n",
       "96   0.96\n",
       "97   0.97\n",
       "98   0.98\n",
       "99   0.99\n",
       "100  1.00\n",
       "\n",
       "[101 rows x 1 columns]"
      ]
     },
     "execution_count": 18,
     "metadata": {},
     "output_type": "execute_result"
    }
   ],
   "source": [
    "df2 = pd.DataFrame(np.arange(101)*0.01,columns=[\"x2\"])\n",
    "df2"
   ]
  },
  {
   "cell_type": "code",
   "execution_count": 19,
   "metadata": {
    "collapsed": true,
    "jupyter": {
     "outputs_hidden": true
    }
   },
   "outputs": [],
   "source": [
    "x_test = np.array(df2.loc[:,[\"x2\"]])"
   ]
  },
  {
   "cell_type": "code",
   "execution_count": 20,
   "metadata": {
    "collapsed": true,
    "jupyter": {
     "outputs_hidden": true
    }
   },
   "outputs": [],
   "source": [
    "df2[\"sin_2px\"]=df2[\"x2\"].apply(lambda x: math.sin(2*x*math.pi))"
   ]
  },
  {
   "cell_type": "code",
   "execution_count": 21,
   "metadata": {
    "collapsed": true,
    "jupyter": {
     "outputs_hidden": true
    }
   },
   "outputs": [],
   "source": [
    "y_test = np.array(df2.loc[:,[\"sin_2px\"]])"
   ]
  },
  {
   "cell_type": "code",
   "execution_count": 35,
   "metadata": {
    "collapsed": true,
    "jupyter": {
     "outputs_hidden": true
    }
   },
   "outputs": [],
   "source": [
    "# ニューラルネットワークのモデルを定義\n",
    "def reg_model(num_input,num_output):\n",
    "    model = Sequential()\n",
    "    model.add(Dense(64, input_dim=num_input, activation=\"tanh\"))\n",
    "    #model.add(Dense(64, input_dim=num_input, activation=\"relu\"))\n",
    "    #model.add(Dense(64, activation=\"relu\"))\n",
    "    model.add(Dense(num_output))\n",
    "    return model\n",
    "\n",
    "# 損失関数のプロットを定義\n",
    "def plot_loss():\n",
    "    plt.plot(np.log(history.history[\"loss\"]))\n",
    "    plt.title(\"model loss\")\n",
    "    plt.ylabel(\"loss\")\n",
    "    plt.xlabel(\"epoch\")\n",
    "    plt.savefig('model_loss.png')\n",
    "    plt.show()\n",
    "    plt.close(\"all\")\n",
    "    return"
   ]
  },
  {
   "cell_type": "code",
   "execution_count": 23,
   "metadata": {
    "collapsed": true,
    "jupyter": {
     "outputs_hidden": true
    }
   },
   "outputs": [
    {
     "name": "stdout",
     "output_type": "stream",
     "text": [
      "Model: \"sequential_1\"\n",
      "_________________________________________________________________\n",
      "Layer (type)                 Output Shape              Param #   \n",
      "=================================================================\n",
      "dense_2 (Dense)              (None, 64)                128       \n",
      "_________________________________________________________________\n",
      "dense_3 (Dense)              (None, 1)                 65        \n",
      "=================================================================\n",
      "Total params: 193\n",
      "Trainable params: 193\n",
      "Non-trainable params: 0\n",
      "_________________________________________________________________\n"
     ]
    }
   ],
   "source": [
    "# モデルの読み込み\n",
    "num_input = 1\n",
    "num_output = 1\n",
    "model = reg_model(num_input, num_output)\n",
    "model.summary()"
   ]
  },
  {
   "cell_type": "code",
   "execution_count": 24,
   "metadata": {
    "collapsed": true,
    "jupyter": {
     "outputs_hidden": true
    }
   },
   "outputs": [
    {
     "data": {
      "text/plain": [
       "1161"
      ]
     },
     "execution_count": 24,
     "metadata": {},
     "output_type": "execute_result"
    }
   ],
   "source": [
    "model_name = \"./test.json\"\n",
    "json_string = model.to_json()\n",
    "open(model_name, \"w\").write(json_string)"
   ]
  },
  {
   "cell_type": "code",
   "execution_count": 25,
   "metadata": {
    "collapsed": true,
    "jupyter": {
     "outputs_hidden": true
    }
   },
   "outputs": [],
   "source": [
    "model.compile(loss=\"mean_squared_error\", optimizer=\"rmsprop\")"
   ]
  },
  {
   "cell_type": "code",
   "execution_count": 38,
   "metadata": {
    "collapsed": true,
    "jupyter": {
     "outputs_hidden": true
    }
   },
   "outputs": [
    {
     "name": "stdout",
     "output_type": "stream",
     "text": [
      "Epoch 1/30\n",
      "1/1 [==============================] - 0s 10ms/step - loss: 0.4975\n",
      "Epoch 2/30\n",
      "1/1 [==============================] - 0s 4ms/step - loss: 0.4932\n",
      "Epoch 3/30\n",
      "1/1 [==============================] - 0s 9ms/step - loss: 0.4890\n",
      "Epoch 4/30\n",
      "1/1 [==============================] - 0s 5ms/step - loss: 0.4848\n",
      "Epoch 5/30\n",
      "1/1 [==============================] - 0s 4ms/step - loss: 0.4806\n",
      "Epoch 6/30\n",
      "1/1 [==============================] - 0s 6ms/step - loss: 0.4765\n",
      "Epoch 7/30\n",
      "1/1 [==============================] - 0s 4ms/step - loss: 0.4725\n",
      "Epoch 8/30\n",
      "1/1 [==============================] - 0s 6ms/step - loss: 0.4686\n",
      "Epoch 9/30\n",
      "1/1 [==============================] - 0s 6ms/step - loss: 0.4647\n",
      "Epoch 10/30\n",
      "1/1 [==============================] - 0s 7ms/step - loss: 0.4608\n",
      "Epoch 11/30\n",
      "1/1 [==============================] - 0s 4ms/step - loss: 0.4571\n",
      "Epoch 12/30\n",
      "1/1 [==============================] - 0s 7ms/step - loss: 0.4533\n",
      "Epoch 13/30\n",
      "1/1 [==============================] - 0s 7ms/step - loss: 0.4497\n",
      "Epoch 14/30\n",
      "1/1 [==============================] - 0s 6ms/step - loss: 0.4461\n",
      "Epoch 15/30\n",
      "1/1 [==============================] - 0s 4ms/step - loss: 0.4425\n",
      "Epoch 16/30\n",
      "1/1 [==============================] - 0s 7ms/step - loss: 0.4391\n",
      "Epoch 17/30\n",
      "1/1 [==============================] - 0s 4ms/step - loss: 0.4356\n",
      "Epoch 18/30\n",
      "1/1 [==============================] - 0s 6ms/step - loss: 0.4323\n",
      "Epoch 19/30\n",
      "1/1 [==============================] - 0s 4ms/step - loss: 0.4290\n",
      "Epoch 20/30\n",
      "1/1 [==============================] - 0s 10ms/step - loss: 0.4257\n",
      "Epoch 21/30\n",
      "1/1 [==============================] - 0s 6ms/step - loss: 0.4225\n",
      "Epoch 22/30\n",
      "1/1 [==============================] - 0s 11ms/step - loss: 0.4194\n",
      "Epoch 23/30\n",
      "1/1 [==============================] - 0s 8ms/step - loss: 0.4164\n",
      "Epoch 24/30\n",
      "1/1 [==============================] - 0s 10ms/step - loss: 0.4134\n",
      "Epoch 25/30\n",
      "1/1 [==============================] - 0s 6ms/step - loss: 0.4104\n",
      "Epoch 26/30\n",
      "1/1 [==============================] - 0s 6ms/step - loss: 0.4075\n",
      "Epoch 27/30\n",
      "1/1 [==============================] - 0s 6ms/step - loss: 0.4047\n",
      "Epoch 28/30\n",
      "1/1 [==============================] - 0s 6ms/step - loss: 0.4020\n",
      "Epoch 29/30\n",
      "1/1 [==============================] - 0s 6ms/step - loss: 0.3993\n",
      "Epoch 30/30\n",
      "1/1 [==============================] - 0s 6ms/step - loss: 0.3966\n"
     ]
    }
   ],
   "source": [
    "history = model.fit(x_train, y_train, batch_size=11,epochs=30, verbose = 1)"
   ]
  },
  {
   "cell_type": "code",
   "execution_count": 39,
   "metadata": {
    "collapsed": true,
    "jupyter": {
     "outputs_hidden": true
    }
   },
   "outputs": [
    {
     "ename": "AttributeError",
     "evalue": "module 'pandas' has no attribute 'plot'",
     "output_type": "error",
     "traceback": [
      "\u001b[0;31m---------------------------------------------------------------------------\u001b[0m",
      "\u001b[0;31mAttributeError\u001b[0m                            Traceback (most recent call last)",
      "\u001b[0;32m<ipython-input-39-7e8dad1a9ddb>\u001b[0m in \u001b[0;36m<module>\u001b[0;34m\u001b[0m\n\u001b[0;32m----> 1\u001b[0;31m \u001b[0mplot_loss\u001b[0m\u001b[0;34m(\u001b[0m\u001b[0;34m)\u001b[0m\u001b[0;34m\u001b[0m\u001b[0;34m\u001b[0m\u001b[0m\n\u001b[0m",
      "\u001b[0;32m<ipython-input-35-4a145282e93a>\u001b[0m in \u001b[0;36mplot_loss\u001b[0;34m()\u001b[0m\n\u001b[1;32m     10\u001b[0m \u001b[0;31m# 損失関数のプロットを定義\u001b[0m\u001b[0;34m\u001b[0m\u001b[0;34m\u001b[0m\u001b[0;34m\u001b[0m\u001b[0m\n\u001b[1;32m     11\u001b[0m \u001b[0;32mdef\u001b[0m \u001b[0mplot_loss\u001b[0m\u001b[0;34m(\u001b[0m\u001b[0;34m)\u001b[0m\u001b[0;34m:\u001b[0m\u001b[0;34m\u001b[0m\u001b[0;34m\u001b[0m\u001b[0m\n\u001b[0;32m---> 12\u001b[0;31m     \u001b[0mplt\u001b[0m\u001b[0;34m.\u001b[0m\u001b[0mplot\u001b[0m\u001b[0;34m(\u001b[0m\u001b[0mnp\u001b[0m\u001b[0;34m.\u001b[0m\u001b[0mlog\u001b[0m\u001b[0;34m(\u001b[0m\u001b[0mhistory\u001b[0m\u001b[0;34m.\u001b[0m\u001b[0mhistory\u001b[0m\u001b[0;34m[\u001b[0m\u001b[0;34m\"loss\"\u001b[0m\u001b[0;34m]\u001b[0m\u001b[0;34m)\u001b[0m\u001b[0;34m)\u001b[0m\u001b[0;34m\u001b[0m\u001b[0;34m\u001b[0m\u001b[0m\n\u001b[0m\u001b[1;32m     13\u001b[0m     \u001b[0mplt\u001b[0m\u001b[0;34m.\u001b[0m\u001b[0mtitle\u001b[0m\u001b[0;34m(\u001b[0m\u001b[0;34m\"model loss\"\u001b[0m\u001b[0;34m)\u001b[0m\u001b[0;34m\u001b[0m\u001b[0;34m\u001b[0m\u001b[0m\n\u001b[1;32m     14\u001b[0m     \u001b[0mplt\u001b[0m\u001b[0;34m.\u001b[0m\u001b[0mylabel\u001b[0m\u001b[0;34m(\u001b[0m\u001b[0;34m\"loss\"\u001b[0m\u001b[0;34m)\u001b[0m\u001b[0;34m\u001b[0m\u001b[0;34m\u001b[0m\u001b[0m\n",
      "\u001b[0;32m/opt/conda/lib/python3.8/site-packages/pandas/__init__.py\u001b[0m in \u001b[0;36m__getattr__\u001b[0;34m(name)\u001b[0m\n\u001b[1;32m    256\u001b[0m             \u001b[0;32mreturn\u001b[0m \u001b[0m_SparseArray\u001b[0m\u001b[0;34m\u001b[0m\u001b[0;34m\u001b[0m\u001b[0m\n\u001b[1;32m    257\u001b[0m \u001b[0;34m\u001b[0m\u001b[0m\n\u001b[0;32m--> 258\u001b[0;31m         \u001b[0;32mraise\u001b[0m \u001b[0mAttributeError\u001b[0m\u001b[0;34m(\u001b[0m\u001b[0;34mf\"module 'pandas' has no attribute '{name}'\"\u001b[0m\u001b[0;34m)\u001b[0m\u001b[0;34m\u001b[0m\u001b[0;34m\u001b[0m\u001b[0m\n\u001b[0m\u001b[1;32m    259\u001b[0m \u001b[0;34m\u001b[0m\u001b[0m\n\u001b[1;32m    260\u001b[0m \u001b[0;34m\u001b[0m\u001b[0m\n",
      "\u001b[0;31mAttributeError\u001b[0m: module 'pandas' has no attribute 'plot'"
     ]
    }
   ],
   "source": [
    "plot_loss()"
   ]
  },
  {
   "cell_type": "code",
   "execution_count": null,
   "metadata": {
    "collapsed": true,
    "jupyter": {
     "outputs_hidden": true
    }
   },
   "outputs": [],
   "source": []
  }
 ],
 "metadata": {
  "kernelspec": {
   "display_name": "Python 3",
   "language": "python",
   "name": "python3"
  },
  "language_info": {
   "codemirror_mode": {
    "name": "ipython",
    "version": 3
   },
   "file_extension": ".py",
   "mimetype": "text/x-python",
   "name": "python",
   "nbconvert_exporter": "python",
   "pygments_lexer": "ipython3",
   "version": "3.8.5"
  }
 },
 "nbformat": 4,
 "nbformat_minor": 4
}
